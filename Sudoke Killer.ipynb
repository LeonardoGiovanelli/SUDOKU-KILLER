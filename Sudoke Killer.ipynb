{
 "cells": [
  {
   "cell_type": "code",
   "execution_count": 6,
   "metadata": {},
   "outputs": [],
   "source": [
    "import pandas as pd\n",
    "import numpy as np\n",
    "import itertools\n",
    "from itertools import combinations\n",
    "\n",
    "# n==amount of numbers\n",
    "# s==desired sum\n",
    "# fn==forbidden numbers\n",
    "\n",
    "def comb(n,s,fn,fc):\n",
    "    \n",
    "    ano=list(range(1,10))\n",
    "    b=list(map(lambda x:x if x not in fn else None,ano ))\n",
    "    b=pd.DataFrame(b)\n",
    "    b=b.dropna()\n",
    "    b=list(b[0])\n",
    "    \n",
    "    a=list(combinations(b,n))\n",
    "    df=pd.DataFrame(a)\n",
    "    \n",
    "    df[\"Sum\"]=list(map(sum,a))\n",
    "    df.sort_values(by=\"Sum\")\n",
    "    df2=df[df['Sum']==s].round(0)\n",
    "\n",
    "    for j in range(len(fc)):\n",
    "        si=len(fc[j])\n",
    "        l=df2.index\n",
    "        for i in range(len(df2)):\n",
    "            a=df2.loc[l[i], : ]    \n",
    "            a=list(map(lambda x:1 if x in fc[j] else 0,a))   \n",
    "            if sum(a)==si:\n",
    "                df2.drop(l[i],inplace=True)\n",
    "                \n",
    "    t=list(range(1,len(df2)+1))\n",
    "    df2.index=t\n",
    "    return(df2)\n",
    "    "
   ]
  },
  {
   "cell_type": "code",
   "execution_count": 84,
   "metadata": {},
   "outputs": [
    {
     "name": "stdout",
     "output_type": "stream",
     "text": [
      "    0  1  2  3  Sum\n",
      "1   1  4  8  9   22\n",
      "2   1  5  7  9   22\n",
      "3   1  6  7  8   22\n",
      "4   2  3  8  9   22\n",
      "5   2  4  7  9   22\n",
      "6   2  5  6  9   22\n",
      "7   2  5  7  8   22\n",
      "8   3  4  6  9   22\n",
      "9   3  4  7  8   22\n",
      "10  3  5  6  8   22\n",
      "11  4  5  6  7   22\n"
     ]
    },
    {
     "data": {
      "text/plain": [
       "array([ 1,  2,  3,  4,  5,  6,  7,  8,  9, 22], dtype=int64)"
      ]
     },
     "execution_count": 84,
     "metadata": {},
     "output_type": "execute_result"
    }
   ],
   "source": [
    "# n= number of digits\n",
    "# s = sum\n",
    "#fN = forbidden numbers\n",
    "# fC = forbidden Combinations\n",
    "\n",
    "n=4\n",
    "s=22\n",
    "fN=[]\n",
    "fC=[]\n",
    "print(comb(n,s,fN,fC))\n",
    "\n",
    "np.unique(comb(n,s,fN,fC))"
   ]
  },
  {
   "cell_type": "code",
   "execution_count": null,
   "metadata": {},
   "outputs": [],
   "source": []
  }
 ],
 "metadata": {
  "kernelspec": {
   "display_name": "Python 3",
   "language": "python",
   "name": "python3"
  },
  "language_info": {
   "codemirror_mode": {
    "name": "ipython",
    "version": 3
   },
   "file_extension": ".py",
   "mimetype": "text/x-python",
   "name": "python",
   "nbconvert_exporter": "python",
   "pygments_lexer": "ipython3",
   "version": "3.7.6"
  }
 },
 "nbformat": 4,
 "nbformat_minor": 4
}
